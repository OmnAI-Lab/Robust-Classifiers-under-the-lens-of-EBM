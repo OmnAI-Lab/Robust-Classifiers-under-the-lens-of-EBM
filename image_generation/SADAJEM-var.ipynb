{
 "cells": [
  {
   "cell_type": "markdown",
   "metadata": {},
   "source": []
  },
  {
   "cell_type": "code",
   "execution_count": 1,
   "metadata": {},
   "outputs": [
    {
     "name": "stderr",
     "output_type": "stream",
     "text": [
      "/home/mary/miniconda3/envs/robust/lib/python3.10/site-packages/tqdm/auto.py:21: TqdmWarning: IProgress not found. Please update jupyter and ipywidgets. See https://ipywidgets.readthedocs.io/en/stable/user_install.html\n",
      "  from .autonotebook import tqdm as notebook_tqdm\n"
     ]
    }
   ],
   "source": [
    "import utils\n",
    "import enumeration\n",
    "import utils_func\n",
    "import argparse\n",
    "import torch\n",
    "import gc, sys \n",
    "\n",
    "from torchvision.transforms import transforms\n",
    "#import resnet50 architecture\n",
    "sys.path.append('/media/mary/T7/code/LE_PGD/ablation/models/Sant2019')\n",
    "from models.Sant2019.resnet import  ResNet50\n",
    "\n",
    "\n",
    "gc.collect()\n",
    "torch.cuda.empty_cache()\n",
    "\n",
    "\n",
    "device = torch.device(\"cuda\" if torch.cuda.is_available() else \"cpu\")\n",
    "\n",
    "model_names_dict = {\n",
    "    # \"wang2023\": \"Wang2023Better_WRN-28-10\",\n",
    "    'Sant2019': '/media/mary/T7/code/LE_PGD/ablation/models/Sant2019/ISWASRClassifier_2019_CIFAR10.pt',\n",
    "    # 'sadajem': '/media/mary/T7/code/LE_PGD/ablation/models/sajem/sadajem5_95.5_9.4.pt'\n",
    "}"
   ]
  },
  {
   "cell_type": "code",
   "execution_count": 2,
   "metadata": {},
   "outputs": [
    {
     "data": {
      "text/plain": [
       "_StoreAction(option_strings=['--threat model'], dest='threat model', nargs=None, const=None, default='Linf', type=<class 'str'>, choices=['Linf', 'L2'], required=False, help='threat model', metavar=None)"
      ]
     },
     "execution_count": 2,
     "metadata": {},
     "output_type": "execute_result"
    }
   ],
   "source": [
    "# parse arguments\n",
    "parser = argparse.ArgumentParser(description=\"Process some parameters.\")\n",
    "parser.add_argument(\"--wandb_logging\", type=bool, default=False, help=\"log to wandb\")\n",
    "parser.add_argument(\"--batch_size\", type=int, default=64, help=\"batch size\")\n",
    "parser.add_argument(\n",
    "    \"--dataset\",\n",
    "    type=str,\n",
    "    default=\"cifar10\",\n",
    "    choices=[\"cifar10\", \"cifar100\"],\n",
    "    help=\"dataset\",\n",
    ")\n",
    "parser.add_argument(\"--epsilon\", type=float, default=8 / 255, help=\"epsilon\")\n",
    "parser.add_argument(\"--alpha\", type=float, default=2 / 255, help=\"alpha\")\n",
    "parser.add_argument(\n",
    "    \"--sampling_iterations\", type=int, default=20, help=\"sampling iterations\"\n",
    ")\n",
    "parser.add_argument(\n",
    "    \"--architecture_name\", type=str, default=\"WideResNet\", help=\"architecture name\"\n",
    ")\n",
    "parser.add_argument(\n",
    "    \"--from_robustbench\", type=bool, default=True, help=\"load model from robustbench\"\n",
    ")\n",
    "parser.add_argument(\n",
    "    \"--init\",\n",
    "    type=str,\n",
    "    default=\"random\",\n",
    "    choices=[\"random\", \"pca\", \"gaussian\", \"informative\", \"informative+pca\"],\n",
    "    help=\"initialization for the generation\",\n",
    ")\n",
    "\n",
    "parser.add_argument(\"--seed\", type=int, default=0, help=\"random seed\")\n",
    "parser.add_argument(\"--data_dir\", type=str, default=\"./data\", help=\"data directory\")\n",
    "parser.add_argument(\n",
    "    \"--model_name\",\n",
    "    type=str,\n",
    "    default=\"Zhang2019Theoretically\",\n",
    "    choices=[model_names_dict.keys()],\n",
    "    help=\"define the name of the model to be loaded\",\n",
    ")\n",
    "parser.add_argument(\n",
    "    \"--model_source\",\n",
    "    type=str,\n",
    "    default=\"robustbench\",\n",
    "    choices=[\"robustbench\", \"jem\", \"local\"],\n",
    "    help=\"the source from where the model is loaded\",\n",
    ")\n",
    "parser.add_argument(\n",
    "    \"--model_dir\",\n",
    "    type=str,\n",
    "    default=\"./models\",\n",
    ")\n",
    "parser.add_argument(\n",
    "    \"--threat model\",\n",
    "    type=str,\n",
    "    default=\"Linf\",\n",
    "    choices=[\"Linf\", \"L2\"],\n",
    "    help=\"threat model\",\n",
    ")"
   ]
  },
  {
   "cell_type": "code",
   "execution_count": 3,
   "metadata": {},
   "outputs": [
    {
     "name": "stdout",
     "output_type": "stream",
     "text": [
      "Using default arguments\n"
     ]
    }
   ],
   "source": [
    "\n",
    "try:\n",
    "    args = parser.parse_args()\n",
    "    wandb = args.wandb_logging\n",
    "    batch_size = args.batch_size\n",
    "    dataset = args.dataset\n",
    "    epsilon = args.epsilon\n",
    "    alpha = args.alpha\n",
    "    sampling_iterations = args.sampling_iterations\n",
    "    architecture_name = args.architecture_name\n",
    "    from_robustbench = args.from_robustbench\n",
    "    initialization = args.init\n",
    "    data_dir = args.data_dir\n",
    "    seed = args.seed\n",
    "    model_name = args.model_name\n",
    "    model_source = args.model_source\n",
    "    model_dir = args.model_dir\n",
    "    threat_model = args.threat_model\n",
    "\n",
    "    print(\"Using arguments from parser\")\n",
    "\n",
    "except:\n",
    "    print(\"Using default arguments\")\n",
    "    wandb = False\n",
    "    batch_size = 64\n",
    "    dataset = \"cifar10\"\n",
    "    epsilon = 8 / 255\n",
    "    alpha = 2 / 255\n",
    "    sampling_iterations = 20\n",
    "    architecture_name = \"WideResNet\"\n",
    "    from_robustbench = True\n",
    "    init = \"informative\"\n",
    "    data_dir = \"./data\"\n",
    "    seed = 0\n",
    "    model_name = \"jem\"\n",
    "    source = 'robustbench'\n",
    "    model_dir = \"./models\"\n",
    "    threat_model = \"L2\""
   ]
  },
  {
   "cell_type": "code",
   "execution_count": 4,
   "metadata": {},
   "outputs": [],
   "source": [
    "\n",
    "def fix_seed(seed):\n",
    "    import torch\n",
    "    import numpy as np\n",
    "    import random\n",
    "\n",
    "    torch.manual_seed(seed)\n",
    "    np.random.seed(seed)\n",
    "    random.seed(seed)"
   ]
  },
  {
   "cell_type": "code",
   "execution_count": 5,
   "metadata": {},
   "outputs": [],
   "source": [
    "# logging on wandb\n",
    "if wandb:\n",
    "    import wandb\n",
    "\n",
    "    config = {\n",
    "        \"dataset\": dataset,\n",
    "        \"batch_size\": batch_size,\n",
    "        \"epsilon\": epsilon,\n",
    "        \"alpha\": alpha,\n",
    "        \"sampling_iterations\": sampling_iterations,\n",
    "        \"architecture name\": architecture_name,\n",
    "        \"from_robustbench\": from_robustbench,\n",
    "        \"initialization\": init,\n",
    "        'model name': model_name,\n",
    "        'model source': model_source\n",
    "    }\n",
    "    wandb.init(name=\"generation\", project=\"LE-PGD\",\n",
    "               entity=\"le-pgd\", config=config)"
   ]
  },
  {
   "cell_type": "code",
   "execution_count": 6,
   "metadata": {},
   "outputs": [
    {
     "name": "stdout",
     "output_type": "stream",
     "text": [
      "Files already downloaded and verified\n",
      "Files already downloaded and verified\n"
     ]
    }
   ],
   "source": [
    "\n",
    "transform = transforms.Compose(\n",
    "    [\n",
    "        transforms.ToTensor(),\n",
    "    ]\n",
    ")\n",
    "\n",
    "dataset_train, dataset_test = utils.load_clean_dataset(\n",
    "    dataset=enumeration.BenchmarkDataset(dataset.lower()),\n",
    "    n_examples=None,\n",
    "    data_dir=data_dir,\n",
    "    transform=transform,\n",
    ")\n",
    "train_dataloader = torch.utils.data.DataLoader(\n",
    "    dataset_train, batch_size=batch_size, shuffle=True\n",
    ")\n",
    "test_dataloader = torch.utils.data.DataLoader(\n",
    "    dataset_test, batch_size=batch_size, shuffle=False\n",
    ")"
   ]
  },
  {
   "cell_type": "markdown",
   "metadata": {},
   "source": [
    "## Define and load the model\n",
    "\n",
    "The default option is to load the model whose name is specified in the arguments "
   ]
  },
  {
   "cell_type": "code",
   "execution_count": 7,
   "metadata": {},
   "outputs": [],
   "source": [
    "from robustbench.utils import load_model\n",
    "from torch import nn\n",
    "\n",
    "from jem_models import F, CCF\n",
    "from JEMPP.models.wideresnet import Wide_ResNet as WideResNet\n",
    "\n",
    "\n",
    "\n",
    "architecture_dict = {'wideresnet': WideResNet, 'resnet50': ResNet50}\n",
    "\n",
    "assert architecture_name.lower() in architecture_dict.keys()"
   ]
  },
  {
   "cell_type": "markdown",
   "metadata": {},
   "source": [
    "### Define the model to load "
   ]
  },
  {
   "cell_type": "code",
   "execution_count": 8,
   "metadata": {},
   "outputs": [],
   "source": [
    "models = {}\n",
    "for m_name in model_names_dict.keys():\n",
    "    models[m_name] = None\n"
   ]
  },
  {
   "cell_type": "code",
   "execution_count": 9,
   "metadata": {},
   "outputs": [
    {
     "name": "stdout",
     "output_type": "stream",
     "text": [
      "Model Sant2019 loaded\n"
     ]
    }
   ],
   "source": [
    "for i, model_name_i in enumerate(model_names_dict.keys()):\n",
    "    model_source = \"jem\" if model_name_i == \"sadajem\" else \"robustbench\"\n",
    "    model_source = \"Sant2019\" if model_name_i == \"Sant2019\" else model_source\n",
    "\n",
    "    if model_source == \"robustbench\":\n",
    "        model = load_model(\n",
    "            model_name=model_names_dict[model_name_i],\n",
    "            dataset=dataset,\n",
    "            threat_model=threat_model,\n",
    "            model_dir=\"./models\",\n",
    "        )\n",
    "        model = nn.DataParallel(model, device_ids=[0])\n",
    "        model.to(device)\n",
    "        models[model_name_i] = model.module\n",
    "    elif model_source == \"jem\":\n",
    "        print(\"loading model from local\")\n",
    "\n",
    "        if dataset == \"svhn\":\n",
    "            size = [3, 28, 28]\n",
    "        else:\n",
    "            size = [3, 32, 32]\n",
    "\n",
    "        model_cls = F\n",
    "        model = model_cls(\n",
    "            depth=28,\n",
    "            width=10,\n",
    "            norm=\"batch\",\n",
    "            n_classes=enumeration.dataset_num_classes[dataset],\n",
    "        )\n",
    "        ckpt_dict = torch.load(model_names_dict[\"sadajem\"])\n",
    "        model.load_state_dict(ckpt_dict[\"model_state_dict\"])\n",
    "        model = model.to(device)\n",
    "        model.eval()\n",
    "        models[model_name_i] = model\n",
    "\n",
    "        # replay_buffer = ckpt_dict[\"replay_buffer\"]\n",
    "    elif model_source == \"Sant2019\":\n",
    "        # instanciate resnet 50\n",
    "        ckpt_dict = torch.load(model_names_dict[\"Sant2019\"])\n",
    "        ckpt_dict = ckpt_dict['state_dict']\n",
    "        # load weights\n",
    "        #remove all the elements that do not start with module\n",
    "        ckpt_dict = {k: v for k, v in ckpt_dict.items() if 'module' in k and 'attacker'  in k  }\n",
    "        ckpt_dict = {k.replace('module.', ''): v for k, v in ckpt_dict.items()}\n",
    "        ckpt_dict = {k.replace('model.', ''): v for k, v in ckpt_dict.items()}\n",
    "        ckpt_dict = {k.replace('attacker.', ''): v for k, v in ckpt_dict.items()}\n",
    "        ckpt_dict = {k : v for k, v in ckpt_dict.items() if 'normalize' not in k}\n",
    "        # print(ckpt_dict.keys())\n",
    "        \n",
    "        model = architecture_dict['resnet50'](\n",
    "            num_classes=enumeration.dataset_num_classes[dataset],\n",
    "        )\n",
    "        \n",
    "        # load weights\n",
    "        model.load_state_dict(ckpt_dict)\n",
    "        model = model.to(device)\n",
    "        model.eval()\n",
    "        models[model_name_i] = model\n",
    "\n",
    "    elif model_source == \"local\":\n",
    "        model_path = model_dir + \"/wandb_model/\" + model_name + \".pt\"\n",
    "        # check missimg 2 factors in architecture instanciation\n",
    "        model = (\n",
    "            architecture_dict[architecture_name]()\n",
    "            .to(device)\n",
    "            .load_state_dict(torch.load(model_path))\n",
    "            .eval()\n",
    "        )\n",
    "        models[model_name_i] = model.module\n",
    "\n",
    "    del model\n",
    "    print(f\"Model {model_name_i} loaded\")"
   ]
  },
  {
   "cell_type": "markdown",
   "metadata": {},
   "source": [
    "In the cell below there is the computation of the mean of the dataset for each category and then the estimate of the dataset as a GMM where each class is a gaussian distribution"
   ]
  },
  {
   "cell_type": "code",
   "execution_count": 10,
   "metadata": {},
   "outputs": [
    {
     "name": "stdout",
     "output_type": "stream",
     "text": [
      "> Mean and Covariance Already Computed, skipping\n"
     ]
    }
   ],
   "source": [
    "utils_func.category_mean(\n",
    "    dload_train=train_dataloader,\n",
    "    n_classes=enumeration.dataset_num_classes[dataset],\n",
    "    name_dataset=dataset,\n",
    "    image_size=enumeration.dataset_image_size[dataset],\n",
    "    n_channels=3,\n",
    "    data_dir=data_dir,\n",
    ")\n",
    "# buffer = utils.center_initialization(\n",
    "#     dataset=dataset, n_classes=enumeration.dataset_num_classes[dataset], batch_size=batch_size, \n",
    "# )\n",
    "buffer=[]\n",
    "replay_buffer = []"
   ]
  },
  {
   "cell_type": "markdown",
   "metadata": {},
   "source": [
    "## Evaluation of the performance of the model for each initialization"
   ]
  },
  {
   "cell_type": "markdown",
   "metadata": {},
   "source": [
    "The evaluation focuses on establishing the best way of initializing the generation.\n",
    "The fixed parameters are :\n",
    "- generated samples : 12 per class\n",
    "- labels to generate : a subset of 10 labels \n",
    "- seed: defined as argument \n",
    "- the norm considered in the perturbation: Linf \n",
    "- Loss for the perturbation : energy_xy\n",
    "- Dataset\n",
    "- optimizer: SGLD"
   ]
  },
  {
   "cell_type": "markdown",
   "metadata": {},
   "source": [
    "### In eacho of these plots the images show for each initialization method images generated for 5 classes.\n",
    "The first line is generated with TRADES -\n",
    "The second line is generated with MART -\n",
    "The third line is Wang2023 model, trained on DM generated images https://arxiv.org/pdf/2302.04638.pdf"
   ]
  },
  {
   "cell_type": "code",
   "execution_count": 12,
   "metadata": {},
   "outputs": [
    {
     "name": "stdout",
     "output_type": "stream",
     "text": [
      "[[0], [1]]\n"
     ]
    }
   ],
   "source": [
    "num_samples = 1\n",
    "label_to_plot = [i for i in range(2)]\n",
    "label_to_plot = [[i for i in label_to_plot[:len(label_to_plot) // 2]], [i for i in label_to_plot[len(label_to_plot) // 2:]]]\n",
    "print(label_to_plot)\n",
    "loss = 'energy_xy'"
   ]
  },
  {
   "cell_type": "markdown",
   "metadata": {},
   "source": [
    "### The start is ```informative```"
   ]
  },
  {
   "cell_type": "code",
   "execution_count": null,
   "metadata": {},
   "outputs": [],
   "source": [
    "for labels in label_to_plot:\n",
    "    init, img = [], []\n",
    "    for name, model in models.items():\n",
    "        print(name)\n",
    "\n",
    "        fix_seed(seed=seed)\n",
    "        x0, imgs = utils.new_samples(\n",
    "            model=model,\n",
    "            label=labels,\n",
    "            batch_size=num_samples,\n",
    "            step_size=0.5,\n",
    "            n_steps=20,\n",
    "            inizialization=\"informative\",\n",
    "            n_steps_sampling=1,\n",
    "            loss=loss,\n",
    "            replay_buffer=replay_buffer,\n",
    "            buffer=buffer,\n",
    "        )\n",
    "        init.append(x0)\n",
    "        img.append(imgs)\n",
    "\n",
    "    init_cat = torch.cat(init, dim=0)\n",
    "    img_cat = torch.cat(img, dim=0)\n",
    "    \n",
    "    utils_func.plot_imgs_generated(\n",
    "        init_cat,\n",
    "        inizialization=\"informative\",\n",
    "        rows= len(model_names_dict.keys()),\n",
    "        size=(40, 10),\n",
    "        path=\"./data/imgs_x0.pdf\",\n",
    "        name=\"imgs_x0: \",\n",
    "    )\n",
    "    utils_func.plot_imgs_generated(\n",
    "        img_cat,\n",
    "        inizialization=\"informative\",\n",
    "        rows=len(model_names_dict.keys()),\n",
    "        size=(40, 10),\n",
    "        path=\"./data/imgs.pdf\",\n",
    "        name=\"imgs: \",\n",
    "    )\n",
    "\n"
   ]
  },
  {
   "cell_type": "markdown",
   "metadata": {},
   "source": [
    "with n_steps = 50"
   ]
  },
  {
   "cell_type": "code",
   "execution_count": null,
   "metadata": {},
   "outputs": [],
   "source": [
    "for labels in label_to_plot:\n",
    "    init, img = [], []\n",
    "    for name, model in models.items():\n",
    "        print(name)\n",
    "\n",
    "        fix_seed(seed=seed)\n",
    "        x0, imgs = utils.new_samples(\n",
    "            model=model,\n",
    "            label=labels,\n",
    "            batch_size=num_samples,\n",
    "            step_size=0.5,\n",
    "            n_steps=50,\n",
    "            inizialization=\"informative\",\n",
    "            n_steps_sampling=1,\n",
    "            loss=loss,\n",
    "            replay_buffer=replay_buffer,\n",
    "            buffer=buffer,\n",
    "        )\n",
    "        init.append(x0)\n",
    "        img.append(imgs)\n",
    "\n",
    "    init_cat = torch.cat(init, dim=0)\n",
    "    img_cat = torch.cat(img, dim=0)\n",
    "    \n",
    "    utils_func.plot_imgs_generated(\n",
    "        init_cat,\n",
    "        inizialization=\"informative\",\n",
    "        rows= len(model_names_dict.keys()),\n",
    "        size=(40, 10),\n",
    "        path=\"./data/imgs_x0.pdf\",\n",
    "        name=\"imgs_x0: \",\n",
    "    )\n",
    "    utils_func.plot_imgs_generated(\n",
    "        img_cat,\n",
    "        inizialization=\"informative\",\n",
    "        rows=len(model_names_dict.keys()),\n",
    "        size=(40, 10),\n",
    "        path=\"./data/imgs.pdf\",\n",
    "        name=\"imgs: \",\n",
    "    )\n",
    "\n"
   ]
  },
  {
   "cell_type": "markdown",
   "metadata": {},
   "source": [
    "### The start is ```pca```"
   ]
  },
  {
   "cell_type": "markdown",
   "metadata": {},
   "source": [
    "The first attempt is with retained variance equal to 0.80"
   ]
  },
  {
   "cell_type": "code",
   "execution_count": null,
   "metadata": {},
   "outputs": [],
   "source": [
    "for labels in label_to_plot:\n",
    "    init, img = [], []\n",
    "    for name, model in models.items():\n",
    "        print(name)\n",
    "\n",
    "        fix_seed(seed=seed)\n",
    "        x0, imgs = utils.new_samples(\n",
    "            model=model,\n",
    "            label=labels,\n",
    "            batch_size=num_samples,\n",
    "            step_size=0.025,\n",
    "            n_steps=500,\n",
    "            inizialization='pca',\n",
    "            n_steps_sampling=1,\n",
    "            loss=loss,\n",
    "            replay_buffer=replay_buffer,\n",
    "            buffer=buffer,\n",
    "            \n",
    "            variance=0.99,\n",
    "            \n",
    "            momentum = 0.8,\n",
    "            alpha = 1, \n",
    "            noise_variance = 0.001\n",
    "            \n",
    "        )\n",
    "        init.append(x0)\n",
    "        img.append(imgs)\n",
    "\n",
    "    init_cat = torch.cat(init, dim=0)\n",
    "    img_cat = torch.cat(img, dim=0)\n",
    "\n",
    "    utils_func.plot_imgs_generated(\n",
    "        init_cat,\n",
    "        inizialization=\"informative\",\n",
    "        rows= len(model_names_dict.keys()),\n",
    "        size=(40, 10),\n",
    "        path=\"./data/imgs_x0.pdf\",\n",
    "        name=\"imgs_x0: \",\n",
    "    )\n",
    "    utils_func.plot_imgs_generated(\n",
    "        img_cat,\n",
    "        inizialization=\"informative\",\n",
    "        rows=len(model_names_dict.keys()),\n",
    "        size=(40, 10),\n",
    "        path=\"./data/imgs.pdf\",\n",
    "        name=\"imgs: \",\n",
    "    )"
   ]
  },
  {
   "cell_type": "markdown",
   "metadata": {},
   "source": [
    "The retained variance is 0.90"
   ]
  },
  {
   "cell_type": "code",
   "execution_count": null,
   "metadata": {},
   "outputs": [],
   "source": [
    "for labels in label_to_plot:\n",
    "    init, img = [], []\n",
    "    for name, model in models.items():\n",
    "        print(name)\n",
    "\n",
    "        fix_seed(seed=seed)\n",
    "        x0, imgs = utils.new_samples(\n",
    "            model=model,\n",
    "            label=labels,\n",
    "            batch_size=num_samples,\n",
    "            step_size=0.8,\n",
    "            n_steps=20,\n",
    "            inizialization='pca',\n",
    "            n_steps_sampling=1,\n",
    "            loss=loss,\n",
    "            replay_buffer=replay_buffer,\n",
    "            buffer=buffer,\n",
    "            \n",
    "            variance = 0.90\n",
    "        )\n",
    "        init.append(x0)\n",
    "        img.append(imgs)\n",
    "\n",
    "    init_cat = torch.cat(init, dim=0)\n",
    "    img_cat = torch.cat(img, dim=0)\n",
    "\n",
    "    utils_func.plot_imgs_generated(\n",
    "        init_cat,\n",
    "        inizialization=\"informative\",\n",
    "        rows= len(model_names_dict.keys()),\n",
    "        size=(40, 10),\n",
    "        path=\"./data/imgs_x0.pdf\",\n",
    "        name=\"imgs_x0: \",\n",
    "    )\n",
    "    utils_func.plot_imgs_generated(\n",
    "        img_cat,\n",
    "        inizialization=\"informative\",\n",
    "        rows=len(model_names_dict.keys()),\n",
    "        size=(40, 10),\n",
    "        path=\"./data/imgs.pdf\",\n",
    "        name=\"imgs: \",\n",
    "    )"
   ]
  },
  {
   "cell_type": "markdown",
   "metadata": {},
   "source": [
    "the same retained variance 0.9 but with a n_steps = 50 "
   ]
  },
  {
   "cell_type": "code",
   "execution_count": null,
   "metadata": {},
   "outputs": [],
   "source": [
    "for labels in label_to_plot:\n",
    "    init, img = [], []\n",
    "    for name, model in models.items():\n",
    "        print(name)\n",
    "\n",
    "        fix_seed(seed=seed)\n",
    "        x0, imgs = utils.new_samples(\n",
    "            model=model,\n",
    "            label=labels,\n",
    "            batch_size=num_samples,\n",
    "            step_size=0.8,\n",
    "            n_steps=50,\n",
    "            inizialization='pca',\n",
    "            n_steps_sampling=1,\n",
    "            loss=loss,\n",
    "            replay_buffer=replay_buffer,\n",
    "            buffer=buffer,\n",
    "            \n",
    "            variance = 0.90\n",
    "        )\n",
    "        init.append(x0)\n",
    "        img.append(imgs)\n",
    "\n",
    "    init_cat = torch.cat(init, dim=0)\n",
    "    img_cat = torch.cat(img, dim=0)\n",
    "\n",
    "    utils_func.plot_imgs_generated(\n",
    "        init_cat,\n",
    "        inizialization=\"informative\",\n",
    "        rows= len(model_names_dict.keys()),\n",
    "        size=(40, 10),\n",
    "        path=\"./data/imgs_x0.pdf\",\n",
    "        name=\"imgs_x0: \",\n",
    "    )\n",
    "    utils_func.plot_imgs_generated(\n",
    "        img_cat,\n",
    "        inizialization=\"informative\",\n",
    "        rows=len(model_names_dict.keys()),\n",
    "        size=(40, 10),\n",
    "        path=\"./data/imgs.pdf\",\n",
    "        name=\"imgs: \",\n",
    "    )"
   ]
  },
  {
   "cell_type": "markdown",
   "metadata": {},
   "source": [
    "The retained variance is 0.95"
   ]
  },
  {
   "cell_type": "code",
   "execution_count": null,
   "metadata": {},
   "outputs": [],
   "source": [
    "for labels in label_to_plot:\n",
    "    init, img = [], []\n",
    "    for name, model in models.items():\n",
    "        print(name)\n",
    "\n",
    "        fix_seed(seed=seed)\n",
    "        x0, imgs = utils.new_samples(\n",
    "            model=model,\n",
    "            label=labels,\n",
    "            batch_size=num_samples,\n",
    "            step_size=0.8,\n",
    "            n_steps=20,\n",
    "            inizialization='pca',\n",
    "            n_steps_sampling=1,\n",
    "            loss=loss,\n",
    "            replay_buffer=replay_buffer,\n",
    "            buffer=buffer,\n",
    "            \n",
    "            variance = 0.95\n",
    "        )\n",
    "        init.append(x0)\n",
    "        img.append(imgs)\n",
    "\n",
    "    init_cat = torch.cat(init, dim=0)\n",
    "    img_cat = torch.cat(img, dim=0)\n",
    "\n",
    "    utils_func.plot_imgs_generated(\n",
    "        init_cat,\n",
    "        inizialization=\"informative\",\n",
    "        rows= len(model_names_dict.keys()),\n",
    "        size=(40, 10),\n",
    "        path=\"./data/imgs_x0.pdf\",\n",
    "        name=\"imgs_x0: \",\n",
    "    )\n",
    "    utils_func.plot_imgs_generated(\n",
    "        img_cat,\n",
    "        inizialization=\"informative\",\n",
    "        rows=len(model_names_dict.keys()),\n",
    "        size=(40, 10),\n",
    "        path=\"./data/imgs.pdf\",\n",
    "        name=\"imgs: \",\n",
    "    )"
   ]
  },
  {
   "cell_type": "markdown",
   "metadata": {},
   "source": [
    "with n_steps = 50"
   ]
  },
  {
   "cell_type": "code",
   "execution_count": null,
   "metadata": {},
   "outputs": [],
   "source": [
    "num_samples = 10"
   ]
  },
  {
   "cell_type": "code",
   "execution_count": null,
   "metadata": {},
   "outputs": [],
   "source": [
    "for labels in label_to_plot:\n",
    "    init, img = [], []\n",
    "    for name, model in models.items():\n",
    "        print(name)\n",
    "\n",
    "        fix_seed(seed=seed)\n",
    "        x0, imgs = utils.new_samples(\n",
    "            model=model,\n",
    "            label=labels,\n",
    "            batch_size=num_samples,\n",
    "            step_size=0.5,\n",
    "            n_steps=300,\n",
    "            inizialization='pca',\n",
    "            n_steps_sampling=1,\n",
    "            loss=loss,\n",
    "            replay_buffer=replay_buffer,\n",
    "            buffer=buffer,\n",
    "            \n",
    "            variance = 0.99\n",
    "        )\n",
    "        init.append(x0)\n",
    "        img.append(imgs)\n",
    "\n",
    "    init_cat = torch.cat(init, dim=0)\n",
    "    img_cat = torch.cat(img, dim=0)\n",
    "\n",
    "    utils_func.plot_imgs_generated(\n",
    "        init_cat,\n",
    "        inizialization=\"informative\",\n",
    "        rows= len(model_names_dict.keys()),\n",
    "        size=(40, 10),\n",
    "        path=\"./data/imgs_x0.pdf\",\n",
    "        name=\"imgs_x0: \",\n",
    "    )\n",
    "    utils_func.plot_imgs_generated(\n",
    "        img_cat,\n",
    "        inizialization=\"informative\",\n",
    "        rows=len(model_names_dict.keys()),\n",
    "        size=(40, 10),\n",
    "        path=\"./data/imgs.pdf\",\n",
    "        name=\"imgs: \",\n",
    "    )"
   ]
  },
  {
   "cell_type": "markdown",
   "metadata": {},
   "source": [
    "### The init is ```center```"
   ]
  },
  {
   "cell_type": "code",
   "execution_count": 13,
   "metadata": {},
   "outputs": [
    {
     "name": "stdout",
     "output_type": "stream",
     "text": [
      "Sant2019\n",
      "torch.Size([1, 1, 10, 3072])\n",
      "the norm is L2\n"
     ]
    },
    {
     "name": "stderr",
     "output_type": "stream",
     "text": [
      "/media/mary/T7/code/LE_PGD/ablation/utils.py:164: UserWarning: To copy construct from a tensor, it is recommended to use sourceTensor.clone().detach() or sourceTensor.clone().detach().requires_grad_(True), rather than torch.tensor(sourceTensor).\n",
      "  sample = torch.tensor(buffer[0].sample((batch_size,)).view(-1, *size))\n"
     ]
    },
    {
     "data": {
      "image/png": "[encoded data removed]",
      "text/plain": [
       "<Figure size 4000x1000 with 1 Axes>"
      ]
     },
     "metadata": {},
     "output_type": "display_data"
    },
    {
     "data": {
      "image/png": "[encoded data removed]",
      "text/plain": [
       "<Figure size 4000x1000 with 1 Axes>"
      ]
     },
     "metadata": {},
     "output_type": "display_data"
    },
    {
     "name": "stdout",
     "output_type": "stream",
     "text": [
      "Sant2019\n"
     ]
    },
    {
     "ename": "OutOfMemoryError",
     "evalue": "CUDA out of memory. Tried to allocate 90.00 MiB. GPU 0 has a total capacty of 3.81 GiB of which 64.19 MiB is free. Including non-PyTorch memory, this process has 2.46 GiB memory in use. Of the allocated memory 2.22 GiB is allocated by PyTorch, and 122.49 MiB is reserved by PyTorch but unallocated. If reserved but unallocated memory is large try setting max_split_size_mb to avoid fragmentation.  See documentation for Memory Management and PYTORCH_CUDA_ALLOC_CONF",
     "output_type": "error",
     "traceback": [
      "\u001b[0;31m---------------------------------------------------------------------------\u001b[0m",
      "\u001b[0;31mOutOfMemoryError\u001b[0m                          Traceback (most recent call last)",
      "Cell \u001b[0;32mIn[13], line 7\u001b[0m\n\u001b[1;32m      4\u001b[0m \u001b[38;5;28mprint\u001b[39m(name)\n\u001b[1;32m      6\u001b[0m fix_seed(seed\u001b[38;5;241m=\u001b[39mseed)\n\u001b[0;32m----> 7\u001b[0m x0, imgs \u001b[38;5;241m=\u001b[39m \u001b[43mutils\u001b[49m\u001b[38;5;241;43m.\u001b[39;49m\u001b[43mnew_samples\u001b[49m\u001b[43m(\u001b[49m\n\u001b[1;32m      8\u001b[0m \u001b[43m    \u001b[49m\u001b[43mmodel\u001b[49m\u001b[38;5;241;43m=\u001b[39;49m\u001b[43mmodel\u001b[49m\u001b[43m,\u001b[49m\n\u001b[1;32m      9\u001b[0m \u001b[43m    \u001b[49m\u001b[43mlabel\u001b[49m\u001b[38;5;241;43m=\u001b[39;49m\u001b[43mlabels\u001b[49m\u001b[43m,\u001b[49m\n\u001b[1;32m     10\u001b[0m \u001b[43m    \u001b[49m\u001b[43mbatch_size\u001b[49m\u001b[38;5;241;43m=\u001b[39;49m\u001b[43mnum_samples\u001b[49m\u001b[43m,\u001b[49m\n\u001b[1;32m     11\u001b[0m \u001b[43m    \u001b[49m\u001b[43mstep_size\u001b[49m\u001b[38;5;241;43m=\u001b[39;49m\u001b[38;5;241;43m0.5\u001b[39;49m\u001b[43m,\u001b[49m\n\u001b[1;32m     12\u001b[0m \u001b[43m    \u001b[49m\u001b[43mn_steps\u001b[49m\u001b[38;5;241;43m=\u001b[39;49m\u001b[38;5;241;43m60\u001b[39;49m\u001b[43m,\u001b[49m\n\u001b[1;32m     13\u001b[0m \u001b[43m    \u001b[49m\u001b[43minizialization\u001b[49m\u001b[38;5;241;43m=\u001b[39;49m\u001b[38;5;124;43m'\u001b[39;49m\u001b[38;5;124;43mcenter\u001b[39;49m\u001b[38;5;124;43m'\u001b[39;49m\u001b[43m,\u001b[49m\n\u001b[1;32m     14\u001b[0m \u001b[43m    \u001b[49m\u001b[43mn_steps_sampling\u001b[49m\u001b[38;5;241;43m=\u001b[39;49m\u001b[38;5;241;43m1\u001b[39;49m\u001b[43m,\u001b[49m\n\u001b[1;32m     15\u001b[0m \u001b[43m    \u001b[49m\u001b[43mloss\u001b[49m\u001b[38;5;241;43m=\u001b[39;49m\u001b[43mloss\u001b[49m\u001b[43m,\u001b[49m\n\u001b[1;32m     16\u001b[0m \u001b[43m    \u001b[49m\u001b[43mreplay_buffer\u001b[49m\u001b[38;5;241;43m=\u001b[39;49m\u001b[43mreplay_buffer\u001b[49m\u001b[43m,\u001b[49m\n\u001b[1;32m     17\u001b[0m \u001b[43m    \u001b[49m\u001b[43mbuffer\u001b[49m\u001b[38;5;241;43m=\u001b[39;49m\u001b[43mbuffer\u001b[49m\u001b[43m,\u001b[49m\n\u001b[1;32m     18\u001b[0m \u001b[43m    \u001b[49m\n\u001b[1;32m     19\u001b[0m \u001b[43m    \u001b[49m\u001b[43meps\u001b[49m\u001b[43m \u001b[49m\u001b[38;5;241;43m=\u001b[39;49m\u001b[43m \u001b[49m\u001b[38;5;241;43m30\u001b[39;49m\u001b[43m,\u001b[49m\n\u001b[1;32m     20\u001b[0m \u001b[43m    \u001b[49m\u001b[43mnorm\u001b[49m\u001b[43m \u001b[49m\u001b[38;5;241;43m=\u001b[39;49m\u001b[43m \u001b[49m\u001b[38;5;124;43m'\u001b[39;49m\u001b[38;5;124;43mL2\u001b[39;49m\u001b[38;5;124;43m'\u001b[39;49m\n\u001b[1;32m     21\u001b[0m \u001b[43m\u001b[49m\u001b[43m)\u001b[49m\n\u001b[1;32m     22\u001b[0m init\u001b[38;5;241m.\u001b[39mappend(x0)\n\u001b[1;32m     23\u001b[0m img\u001b[38;5;241m.\u001b[39mappend(imgs)\n",
      "File \u001b[0;32m/media/mary/T7/code/LE_PGD/ablation/utils.py:807\u001b[0m, in \u001b[0;36mnew_samples\u001b[0;34m(model, label, batch_size, step_size, n_steps, inizialization, n_steps_sampling, loss, algo, replay_buffer, buffer, dataset, sigma_pca, eps, **kwargs)\u001b[0m\n\u001b[1;32m    805\u001b[0m \u001b[38;5;28;01mfor\u001b[39;00m _ \u001b[38;5;129;01min\u001b[39;00m \u001b[38;5;28mrange\u001b[39m(n_steps_sampling):\n\u001b[1;32m    806\u001b[0m     \u001b[38;5;28;01mif\u001b[39;00m algo \u001b[38;5;241m==\u001b[39m \u001b[38;5;124m\"\u001b[39m\u001b[38;5;124mSGLD\u001b[39m\u001b[38;5;124m\"\u001b[39m:\n\u001b[0;32m--> 807\u001b[0m         x0, final_samples, energy_dict \u001b[38;5;241m=\u001b[39m \u001b[43msample_q_SGLD\u001b[49m\u001b[43m(\u001b[49m\n\u001b[1;32m    808\u001b[0m \u001b[43m            \u001b[49m\u001b[43mmodel\u001b[49m\u001b[38;5;241;43m=\u001b[39;49m\u001b[43mmodel\u001b[49m\u001b[43m,\u001b[49m\n\u001b[1;32m    809\u001b[0m \u001b[43m            \u001b[49m\u001b[43mreplay_buffer\u001b[49m\u001b[38;5;241;43m=\u001b[39;49m\u001b[43mreplay_buffer\u001b[49m\u001b[43m,\u001b[49m\n\u001b[1;32m    810\u001b[0m \u001b[43m            \u001b[49m\u001b[43mbatch_size\u001b[49m\u001b[38;5;241;43m=\u001b[39;49m\u001b[43mbatch_size\u001b[49m\u001b[43m,\u001b[49m\n\u001b[1;32m    811\u001b[0m \u001b[43m            \u001b[49m\u001b[43mstep_size\u001b[49m\u001b[38;5;241;43m=\u001b[39;49m\u001b[43mstep_size\u001b[49m\u001b[43m,\u001b[49m\n\u001b[1;32m    812\u001b[0m \u001b[43m            \u001b[49m\u001b[43my\u001b[49m\u001b[38;5;241;43m=\u001b[39;49m\u001b[43my\u001b[49m\u001b[43m,\u001b[49m\n\u001b[1;32m    813\u001b[0m \u001b[43m            \u001b[49m\u001b[43mn_steps\u001b[49m\u001b[38;5;241;43m=\u001b[39;49m\u001b[43mn_steps\u001b[49m\u001b[43m,\u001b[49m\n\u001b[1;32m    814\u001b[0m \u001b[43m            \u001b[49m\u001b[43minizialization\u001b[49m\u001b[38;5;241;43m=\u001b[39;49m\u001b[43minizialization\u001b[49m\u001b[43m,\u001b[49m\n\u001b[1;32m    815\u001b[0m \u001b[43m            \u001b[49m\u001b[43mloss_func\u001b[49m\u001b[38;5;241;43m=\u001b[39;49m\u001b[43mloss\u001b[49m\u001b[43m,\u001b[49m\n\u001b[1;32m    816\u001b[0m \u001b[43m            \u001b[49m\u001b[43mdataset\u001b[49m\u001b[38;5;241;43m=\u001b[39;49m\u001b[43mdataset\u001b[49m\u001b[43m,\u001b[49m\n\u001b[1;32m    817\u001b[0m \u001b[43m            \u001b[49m\u001b[43mbuffer\u001b[49m\u001b[38;5;241;43m=\u001b[39;49m\u001b[43mbuffer\u001b[49m\u001b[43m,\u001b[49m\n\u001b[1;32m    818\u001b[0m \u001b[43m            \u001b[49m\u001b[43msigma_pca\u001b[49m\u001b[38;5;241;43m=\u001b[39;49m\u001b[43msigma_pca\u001b[49m\u001b[43m,\u001b[49m\n\u001b[1;32m    819\u001b[0m \u001b[43m            \u001b[49m\u001b[43menergy_dict\u001b[49m\u001b[38;5;241;43m=\u001b[39;49m\u001b[43menergy_dict\u001b[49m\u001b[43m,\u001b[49m\n\u001b[1;32m    820\u001b[0m \u001b[43m            \u001b[49m\u001b[43meps\u001b[49m\u001b[38;5;241;43m=\u001b[39;49m\u001b[43meps\u001b[49m\u001b[43m,\u001b[49m\n\u001b[1;32m    821\u001b[0m \u001b[43m            \u001b[49m\u001b[38;5;241;43m*\u001b[39;49m\u001b[38;5;241;43m*\u001b[39;49m\u001b[43mkwargs\u001b[49m\u001b[43m,\u001b[49m\n\u001b[1;32m    822\u001b[0m \u001b[43m        \u001b[49m\u001b[43m)\u001b[49m\n\u001b[1;32m    823\u001b[0m     \u001b[38;5;28;01melif\u001b[39;00m algo \u001b[38;5;241m==\u001b[39m \u001b[38;5;124m\"\u001b[39m\u001b[38;5;124mHeun\u001b[39m\u001b[38;5;124m\"\u001b[39m:\n\u001b[1;32m    824\u001b[0m         x0, final_samples \u001b[38;5;241m=\u001b[39m sample_q_Heun(\n\u001b[1;32m    825\u001b[0m             model,\n\u001b[1;32m    826\u001b[0m             replay_buffer\u001b[38;5;241m=\u001b[39mreplay_buffer,\n\u001b[0;32m   (...)\u001b[0m\n\u001b[1;32m    837\u001b[0m             \u001b[38;5;241m*\u001b[39m\u001b[38;5;241m*\u001b[39mkwargs,\n\u001b[1;32m    838\u001b[0m         )\n",
      "File \u001b[0;32m/media/mary/T7/code/LE_PGD/ablation/utils.py:567\u001b[0m, in \u001b[0;36msample_q_SGLD\u001b[0;34m(model, replay_buffer, batch_size, step_size, y, n_steps, inizialization, loss_func, sigma_pca, mean_img, N_components, retained_variance, more_variance, dataset, buffer, energy_dict, eps, **kwargs)\u001b[0m\n\u001b[1;32m    564\u001b[0m adaptive \u001b[38;5;241m=\u001b[39m kwargs\u001b[38;5;241m.\u001b[39mget(\u001b[38;5;124m\"\u001b[39m\u001b[38;5;124madaptive\u001b[39m\u001b[38;5;124m\"\u001b[39m, \u001b[38;5;241m-\u001b[39m\u001b[38;5;241m1\u001b[39m)\n\u001b[1;32m    566\u001b[0m \u001b[38;5;66;03m# init the image X0 based on the MODE\u001b[39;00m\n\u001b[0;32m--> 567\u001b[0m x0, inds \u001b[38;5;241m=\u001b[39m \u001b[43mget_init_images\u001b[49m\u001b[43m(\u001b[49m\n\u001b[1;32m    568\u001b[0m \u001b[43m    \u001b[49m\u001b[43mreplay_buffer\u001b[49m\u001b[38;5;241;43m=\u001b[39;49m\u001b[43mreplay_buffer\u001b[49m\u001b[43m,\u001b[49m\n\u001b[1;32m    569\u001b[0m \u001b[43m    \u001b[49m\u001b[43mbatch_size\u001b[49m\u001b[38;5;241;43m=\u001b[39;49m\u001b[43mbatch_size\u001b[49m\u001b[43m,\u001b[49m\n\u001b[1;32m    570\u001b[0m \u001b[43m    \u001b[49m\u001b[43my\u001b[49m\u001b[38;5;241;43m=\u001b[39;49m\u001b[43my\u001b[49m\u001b[43m,\u001b[49m\n\u001b[1;32m    571\u001b[0m \u001b[43m    \u001b[49m\u001b[43minizialization\u001b[49m\u001b[38;5;241;43m=\u001b[39;49m\u001b[43minizialization\u001b[49m\u001b[43m,\u001b[49m\n\u001b[1;32m    572\u001b[0m \u001b[43m    \u001b[49m\u001b[43msigma_pca\u001b[49m\u001b[38;5;241;43m=\u001b[39;49m\u001b[43msigma_pca\u001b[49m\u001b[43m,\u001b[49m\n\u001b[1;32m    573\u001b[0m \u001b[43m    \u001b[49m\u001b[43mmean_img\u001b[49m\u001b[38;5;241;43m=\u001b[39;49m\u001b[43mmean_img\u001b[49m\u001b[43m,\u001b[49m\n\u001b[1;32m    574\u001b[0m \u001b[43m    \u001b[49m\u001b[43mN_components\u001b[49m\u001b[38;5;241;43m=\u001b[39;49m\u001b[43mN_components\u001b[49m\u001b[43m,\u001b[49m\n\u001b[1;32m    575\u001b[0m \u001b[43m    \u001b[49m\u001b[43mretained_variance\u001b[49m\u001b[38;5;241;43m=\u001b[39;49m\u001b[43mretained_variance\u001b[49m\u001b[43m,\u001b[49m\n\u001b[1;32m    576\u001b[0m \u001b[43m    \u001b[49m\u001b[43mmore_variance\u001b[49m\u001b[38;5;241;43m=\u001b[39;49m\u001b[43mmore_variance\u001b[49m\u001b[43m,\u001b[49m\n\u001b[1;32m    577\u001b[0m \u001b[43m    \u001b[49m\u001b[43mdataset\u001b[49m\u001b[38;5;241;43m=\u001b[39;49m\u001b[43mdataset\u001b[49m\u001b[43m,\u001b[49m\n\u001b[1;32m    578\u001b[0m \u001b[43m    \u001b[49m\u001b[43mbuffer\u001b[49m\u001b[38;5;241;43m=\u001b[39;49m\u001b[43mbuffer\u001b[49m\u001b[43m,\u001b[49m\n\u001b[1;32m    579\u001b[0m \u001b[43m    \u001b[49m\u001b[43meps\u001b[49m\u001b[38;5;241;43m=\u001b[39;49m\u001b[43meps\u001b[49m\u001b[43m,\u001b[49m\n\u001b[1;32m    580\u001b[0m \u001b[43m    \u001b[49m\u001b[38;5;241;43m*\u001b[39;49m\u001b[38;5;241;43m*\u001b[39;49m\u001b[43mkwargs\u001b[49m\u001b[43m,\u001b[49m\n\u001b[1;32m    581\u001b[0m \u001b[43m\u001b[49m\u001b[43m)\u001b[49m\n\u001b[1;32m    583\u001b[0m velocity \u001b[38;5;241m=\u001b[39m torch\u001b[38;5;241m.\u001b[39mzeros_like(x0)\u001b[38;5;241m.\u001b[39mto(device)\n\u001b[1;32m    585\u001b[0m samples \u001b[38;5;241m=\u001b[39m x0\u001b[38;5;241m.\u001b[39mclone()\u001b[38;5;241m.\u001b[39mdetach()\u001b[38;5;241m.\u001b[39mto(device)\n",
      "File \u001b[0;32m/media/mary/T7/code/LE_PGD/ablation/utils.py:403\u001b[0m, in \u001b[0;36mget_init_images\u001b[0;34m(replay_buffer, batch_size, y, inizialization, sigma_pca, mean_img, N_components, retained_variance, more_variance, dataset, buffer, eps, **kwargs)\u001b[0m\n\u001b[1;32m    401\u001b[0m     \u001b[38;5;28;01mreturn\u001b[39;00m ret, []\n\u001b[1;32m    402\u001b[0m \u001b[38;5;28;01melif\u001b[39;00m inizialization \u001b[38;5;241m==\u001b[39m \u001b[38;5;124m\"\u001b[39m\u001b[38;5;124mcenter\u001b[39m\u001b[38;5;124m\"\u001b[39m:\n\u001b[0;32m--> 403\u001b[0m     ret \u001b[38;5;241m=\u001b[39m \u001b[43minizializations\u001b[49m\u001b[43m[\u001b[49m\u001b[43minizialization\u001b[49m\u001b[43m]\u001b[49m\u001b[43m(\u001b[49m\n\u001b[1;32m    404\u001b[0m \u001b[43m        \u001b[49m\u001b[43mdataset\u001b[49m\u001b[38;5;241;43m=\u001b[39;49m\u001b[43mdataset\u001b[49m\u001b[43m,\u001b[49m\n\u001b[1;32m    405\u001b[0m \u001b[43m        \u001b[49m\u001b[43mn_classes\u001b[49m\u001b[38;5;241;43m=\u001b[39;49m\u001b[43mdataset_num_classes\u001b[49m\u001b[43m[\u001b[49m\u001b[43mdataset\u001b[49m\u001b[43m]\u001b[49m\u001b[43m,\u001b[49m\n\u001b[1;32m    406\u001b[0m \u001b[43m        \u001b[49m\u001b[43mdevice\u001b[49m\u001b[38;5;241;43m=\u001b[39;49m\u001b[38;5;124;43m\"\u001b[39;49m\u001b[38;5;124;43mcuda\u001b[39;49m\u001b[38;5;124;43m\"\u001b[39;49m\u001b[43m,\u001b[49m\n\u001b[1;32m    407\u001b[0m \u001b[43m        \u001b[49m\u001b[43mbatch_size\u001b[49m\u001b[38;5;241;43m=\u001b[39;49m\u001b[43mbatch_size\u001b[49m\u001b[43m,\u001b[49m\n\u001b[1;32m    408\u001b[0m \u001b[43m        \u001b[49m\u001b[43mdataset_folder\u001b[49m\u001b[38;5;241;43m=\u001b[39;49m\u001b[38;5;124;43m\"\u001b[39;49m\u001b[38;5;124;43m./data\u001b[39;49m\u001b[38;5;124;43m\"\u001b[39;49m\u001b[43m,\u001b[49m\n\u001b[1;32m    409\u001b[0m \u001b[43m    \u001b[49m\u001b[43m)\u001b[49m\n\u001b[1;32m    411\u001b[0m     \u001b[38;5;28;01mreturn\u001b[39;00m ret, []\n\u001b[1;32m    412\u001b[0m \u001b[38;5;28;01melse\u001b[39;00m:\n",
      "File \u001b[0;32m/media/mary/T7/code/LE_PGD/ablation/utils.py:158\u001b[0m, in \u001b[0;36msample_X0_center\u001b[0;34m(dataset, n_classes, device, batch_size, y, dataset_folder, dataset_image_size)\u001b[0m\n\u001b[1;32m    156\u001b[0m y_mean \u001b[38;5;241m=\u001b[39m centers[y]\u001b[38;5;241m.\u001b[39mto(device)\n\u001b[1;32m    157\u001b[0m y_cov \u001b[38;5;241m=\u001b[39m covs[y]\u001b[38;5;241m.\u001b[39mto(device)\n\u001b[0;32m--> 158\u001b[0m dist \u001b[38;5;241m=\u001b[39m \u001b[43mMultivariateNormal\u001b[49m\u001b[43m(\u001b[49m\n\u001b[1;32m    159\u001b[0m \u001b[43m    \u001b[49m\u001b[43my_mean\u001b[49m\u001b[43m,\u001b[49m\n\u001b[1;32m    160\u001b[0m \u001b[43m    \u001b[49m\u001b[43mcovariance_matrix\u001b[49m\u001b[38;5;241;43m=\u001b[39;49m\u001b[43my_cov\u001b[49m\u001b[43m \u001b[49m\u001b[38;5;241;43m+\u001b[39;49m\u001b[43m \u001b[49m\u001b[38;5;241;43m1e-4\u001b[39;49m\u001b[43m \u001b[49m\u001b[38;5;241;43m*\u001b[39;49m\u001b[43m \u001b[49m\u001b[43mtorch\u001b[49m\u001b[38;5;241;43m.\u001b[39;49m\u001b[43meye\u001b[49m\u001b[43m(\u001b[49m\u001b[38;5;28;43mint\u001b[39;49m\u001b[43m(\u001b[49m\u001b[43mnp\u001b[49m\u001b[38;5;241;43m.\u001b[39;49m\u001b[43mprod\u001b[49m\u001b[43m(\u001b[49m\u001b[43msize\u001b[49m\u001b[43m)\u001b[49m\u001b[43m)\u001b[49m\u001b[43m)\u001b[49m\u001b[38;5;241;43m.\u001b[39;49m\u001b[43mto\u001b[49m\u001b[43m(\u001b[49m\u001b[43mdevice\u001b[49m\u001b[43m)\u001b[49m\u001b[43m,\u001b[49m\n\u001b[1;32m    161\u001b[0m \u001b[43m\u001b[49m\u001b[43m)\u001b[49m\n\u001b[1;32m    162\u001b[0m buffer\u001b[38;5;241m.\u001b[39mappend(dist)\n\u001b[1;32m    163\u001b[0m buffer \u001b[38;5;241m=\u001b[39m buffer[:\u001b[38;5;241m10\u001b[39m]\n",
      "File \u001b[0;32m~/miniconda3/envs/robust/lib/python3.10/site-packages/torch/distributions/multivariate_normal.py:177\u001b[0m, in \u001b[0;36mMultivariateNormal.__init__\u001b[0;34m(self, loc, covariance_matrix, precision_matrix, scale_tril, validate_args)\u001b[0m\n\u001b[1;32m    174\u001b[0m \u001b[38;5;28mself\u001b[39m\u001b[38;5;241m.\u001b[39mloc \u001b[38;5;241m=\u001b[39m loc\u001b[38;5;241m.\u001b[39mexpand(batch_shape \u001b[38;5;241m+\u001b[39m (\u001b[38;5;241m-\u001b[39m\u001b[38;5;241m1\u001b[39m,))\n\u001b[1;32m    176\u001b[0m event_shape \u001b[38;5;241m=\u001b[39m \u001b[38;5;28mself\u001b[39m\u001b[38;5;241m.\u001b[39mloc\u001b[38;5;241m.\u001b[39mshape[\u001b[38;5;241m-\u001b[39m\u001b[38;5;241m1\u001b[39m:]\n\u001b[0;32m--> 177\u001b[0m \u001b[38;5;28;43msuper\u001b[39;49m\u001b[43m(\u001b[49m\u001b[43m)\u001b[49m\u001b[38;5;241;43m.\u001b[39;49m\u001b[38;5;21;43m__init__\u001b[39;49m\u001b[43m(\u001b[49m\u001b[43mbatch_shape\u001b[49m\u001b[43m,\u001b[49m\u001b[43m \u001b[49m\u001b[43mevent_shape\u001b[49m\u001b[43m,\u001b[49m\u001b[43m \u001b[49m\u001b[43mvalidate_args\u001b[49m\u001b[38;5;241;43m=\u001b[39;49m\u001b[43mvalidate_args\u001b[49m\u001b[43m)\u001b[49m\n\u001b[1;32m    179\u001b[0m \u001b[38;5;28;01mif\u001b[39;00m scale_tril \u001b[38;5;129;01mis\u001b[39;00m \u001b[38;5;129;01mnot\u001b[39;00m \u001b[38;5;28;01mNone\u001b[39;00m:\n\u001b[1;32m    180\u001b[0m     \u001b[38;5;28mself\u001b[39m\u001b[38;5;241m.\u001b[39m_unbroadcasted_scale_tril \u001b[38;5;241m=\u001b[39m scale_tril\n",
      "File \u001b[0;32m~/miniconda3/envs/robust/lib/python3.10/site-packages/torch/distributions/distribution.py:66\u001b[0m, in \u001b[0;36mDistribution.__init__\u001b[0;34m(self, batch_shape, event_shape, validate_args)\u001b[0m\n\u001b[1;32m     64\u001b[0m     \u001b[38;5;28;01mcontinue\u001b[39;00m  \u001b[38;5;66;03m# skip checking lazily-constructed args\u001b[39;00m\n\u001b[1;32m     65\u001b[0m value \u001b[38;5;241m=\u001b[39m \u001b[38;5;28mgetattr\u001b[39m(\u001b[38;5;28mself\u001b[39m, param)\n\u001b[0;32m---> 66\u001b[0m valid \u001b[38;5;241m=\u001b[39m \u001b[43mconstraint\u001b[49m\u001b[38;5;241;43m.\u001b[39;49m\u001b[43mcheck\u001b[49m\u001b[43m(\u001b[49m\u001b[43mvalue\u001b[49m\u001b[43m)\u001b[49m\n\u001b[1;32m     67\u001b[0m \u001b[38;5;28;01mif\u001b[39;00m \u001b[38;5;129;01mnot\u001b[39;00m valid\u001b[38;5;241m.\u001b[39mall():\n\u001b[1;32m     68\u001b[0m     \u001b[38;5;28;01mraise\u001b[39;00m \u001b[38;5;167;01mValueError\u001b[39;00m(\n\u001b[1;32m     69\u001b[0m         \u001b[38;5;124mf\u001b[39m\u001b[38;5;124m\"\u001b[39m\u001b[38;5;124mExpected parameter \u001b[39m\u001b[38;5;132;01m{\u001b[39;00mparam\u001b[38;5;132;01m}\u001b[39;00m\u001b[38;5;124m \u001b[39m\u001b[38;5;124m\"\u001b[39m\n\u001b[1;32m     70\u001b[0m         \u001b[38;5;124mf\u001b[39m\u001b[38;5;124m\"\u001b[39m\u001b[38;5;124m(\u001b[39m\u001b[38;5;132;01m{\u001b[39;00m\u001b[38;5;28mtype\u001b[39m(value)\u001b[38;5;241m.\u001b[39m\u001b[38;5;18m__name__\u001b[39m\u001b[38;5;132;01m}\u001b[39;00m\u001b[38;5;124m of shape \u001b[39m\u001b[38;5;132;01m{\u001b[39;00m\u001b[38;5;28mtuple\u001b[39m(value\u001b[38;5;241m.\u001b[39mshape)\u001b[38;5;132;01m}\u001b[39;00m\u001b[38;5;124m) \u001b[39m\u001b[38;5;124m\"\u001b[39m\n\u001b[0;32m   (...)\u001b[0m\n\u001b[1;32m     73\u001b[0m         \u001b[38;5;124mf\u001b[39m\u001b[38;5;124m\"\u001b[39m\u001b[38;5;124mbut found invalid values:\u001b[39m\u001b[38;5;130;01m\\n\u001b[39;00m\u001b[38;5;132;01m{\u001b[39;00mvalue\u001b[38;5;132;01m}\u001b[39;00m\u001b[38;5;124m\"\u001b[39m\n\u001b[1;32m     74\u001b[0m     )\n",
      "File \u001b[0;32m~/miniconda3/envs/robust/lib/python3.10/site-packages/torch/distributions/constraints.py:554\u001b[0m, in \u001b[0;36m_PositiveDefinite.check\u001b[0;34m(self, value)\u001b[0m\n\u001b[1;32m    553\u001b[0m \u001b[38;5;28;01mdef\u001b[39;00m \u001b[38;5;21mcheck\u001b[39m(\u001b[38;5;28mself\u001b[39m, value):\n\u001b[0;32m--> 554\u001b[0m     sym_check \u001b[38;5;241m=\u001b[39m \u001b[38;5;28;43msuper\u001b[39;49m\u001b[43m(\u001b[49m\u001b[43m)\u001b[49m\u001b[38;5;241;43m.\u001b[39;49m\u001b[43mcheck\u001b[49m\u001b[43m(\u001b[49m\u001b[43mvalue\u001b[49m\u001b[43m)\u001b[49m\n\u001b[1;32m    555\u001b[0m     \u001b[38;5;28;01mif\u001b[39;00m \u001b[38;5;129;01mnot\u001b[39;00m sym_check\u001b[38;5;241m.\u001b[39mall():\n\u001b[1;32m    556\u001b[0m         \u001b[38;5;28;01mreturn\u001b[39;00m sym_check\n",
      "File \u001b[0;32m~/miniconda3/envs/robust/lib/python3.10/site-packages/torch/distributions/constraints.py:533\u001b[0m, in \u001b[0;36m_Symmetric.check\u001b[0;34m(self, value)\u001b[0m\n\u001b[1;32m    531\u001b[0m \u001b[38;5;28;01mif\u001b[39;00m \u001b[38;5;129;01mnot\u001b[39;00m square_check\u001b[38;5;241m.\u001b[39mall():\n\u001b[1;32m    532\u001b[0m     \u001b[38;5;28;01mreturn\u001b[39;00m square_check\n\u001b[0;32m--> 533\u001b[0m \u001b[38;5;28;01mreturn\u001b[39;00m \u001b[43mtorch\u001b[49m\u001b[38;5;241;43m.\u001b[39;49m\u001b[43misclose\u001b[49m\u001b[43m(\u001b[49m\u001b[43mvalue\u001b[49m\u001b[43m,\u001b[49m\u001b[43m \u001b[49m\u001b[43mvalue\u001b[49m\u001b[38;5;241;43m.\u001b[39;49m\u001b[43mmT\u001b[49m\u001b[43m,\u001b[49m\u001b[43m \u001b[49m\u001b[43matol\u001b[49m\u001b[38;5;241;43m=\u001b[39;49m\u001b[38;5;241;43m1e-6\u001b[39;49m\u001b[43m)\u001b[49m\u001b[38;5;241m.\u001b[39mall(\u001b[38;5;241m-\u001b[39m\u001b[38;5;241m2\u001b[39m)\u001b[38;5;241m.\u001b[39mall(\u001b[38;5;241m-\u001b[39m\u001b[38;5;241m1\u001b[39m)\n",
      "\u001b[0;31mOutOfMemoryError\u001b[0m: CUDA out of memory. Tried to allocate 90.00 MiB. GPU 0 has a total capacty of 3.81 GiB of which 64.19 MiB is free. Including non-PyTorch memory, this process has 2.46 GiB memory in use. Of the allocated memory 2.22 GiB is allocated by PyTorch, and 122.49 MiB is reserved by PyTorch but unallocated. If reserved but unallocated memory is large try setting max_split_size_mb to avoid fragmentation.  See documentation for Memory Management and PYTORCH_CUDA_ALLOC_CONF"
     ]
    }
   ],
   "source": [
    "for labels in label_to_plot:\n",
    "    init, img = [], []\n",
    "    for name, model in models.items():\n",
    "        print(name)\n",
    "\n",
    "        fix_seed(seed=seed)\n",
    "        x0, imgs = utils.new_samples(\n",
    "            model=model,\n",
    "            label=labels,\n",
    "            batch_size=num_samples,\n",
    "            step_size=0.5,\n",
    "            n_steps=60,\n",
    "            inizialization='center',\n",
    "            n_steps_sampling=1,\n",
    "            loss=loss,\n",
    "            replay_buffer=replay_buffer,\n",
    "            buffer=buffer,\n",
    "            \n",
    "            eps = 30,\n",
    "            norm = 'L2'\n",
    "        )\n",
    "        init.append(x0)\n",
    "        img.append(imgs)\n",
    "\n",
    "    init_cat = torch.cat(init, dim=0)\n",
    "    img_cat = torch.cat(img, dim=0)\n",
    "\n",
    "    utils_func.plot_imgs_generated(\n",
    "        init_cat,\n",
    "        inizialization=\"centers\",\n",
    "        rows= len(model_names_dict.keys()),\n",
    "        size=(40, 10),\n",
    "        path=\"./data/imgs_x0.pdf\",\n",
    "        name=\"imgs_x0: \",\n",
    "    )\n",
    "    utils_func.plot_imgs_generated(\n",
    "        img_cat,\n",
    "        inizialization=\"centers\",\n",
    "        rows=len(model_names_dict.keys()),\n",
    "        size=(40, 10),\n",
    "        path=\"./data/imgs.pdf\",\n",
    "        name=\"imgs: \",\n",
    "    )"
   ]
  },
  {
   "cell_type": "code",
   "execution_count": null,
   "metadata": {},
   "outputs": [],
   "source": []
  }
 ],
 "metadata": {
  "kernelspec": {
   "display_name": "robustbench",
   "language": "python",
   "name": "python3"
  },
  "language_info": {
   "codemirror_mode": {
    "name": "ipython",
    "version": 3
   },
   "file_extension": ".py",
   "mimetype": "text/x-python",
   "name": "python",
   "nbconvert_exporter": "python",
   "pygments_lexer": "ipython3",
   "version": "3.10.6"
  }
 },
 "nbformat": 4,
 "nbformat_minor": 2
}
